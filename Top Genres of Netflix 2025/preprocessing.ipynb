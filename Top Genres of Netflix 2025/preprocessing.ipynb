{
 "cells": [
  {
   "cell_type": "markdown",
   "id": "0d12008c",
   "metadata": {},
   "source": [
    "# Netflix: Top Genre of 2025\n",
    "## PREPROCESSING"
   ]
  },
  {
   "cell_type": "code",
   "execution_count": 86,
   "id": "75eea988",
   "metadata": {},
   "outputs": [],
   "source": [
    "# Import Libraries\n",
    "import pandas as pd\n",
    "import numpy as np\n",
    "import matplotlib.pyplot as plt\n",
    "import seaborn as sns\n"
   ]
  },
  {
   "cell_type": "code",
   "execution_count": 87,
   "id": "b5554158",
   "metadata": {},
   "outputs": [],
   "source": [
    "\n",
    "# Importing Dataset\n",
    "df = pd.read_excel('Netflix_shows_2025_ready.xlsx')"
   ]
  },
  {
   "cell_type": "code",
   "execution_count": 88,
   "id": "6bea8d51",
   "metadata": {},
   "outputs": [
    {
     "data": {
      "text/plain": [
       "Index(['show_id', 'type', 'title', 'country', 'date_added', 'release_year',\n",
       "       'rating', 'duration', 'genres', 'language', 'popularity', 'vote_count',\n",
       "       'vote_average'],\n",
       "      dtype='object')"
      ]
     },
     "execution_count": 88,
     "metadata": {},
     "output_type": "execute_result"
    }
   ],
   "source": [
    "df.columns"
   ]
  },
  {
   "cell_type": "code",
   "execution_count": 89,
   "id": "82c95c18",
   "metadata": {},
   "outputs": [
    {
     "name": "stdout",
     "output_type": "stream",
     "text": [
      "<class 'pandas.core.frame.DataFrame'>\n",
      "RangeIndex: 1000 entries, 0 to 999\n",
      "Data columns (total 13 columns):\n",
      " #   Column        Non-Null Count  Dtype         \n",
      "---  ------        --------------  -----         \n",
      " 0   show_id       1000 non-null   int64         \n",
      " 1   type          1000 non-null   object        \n",
      " 2   title         1000 non-null   object        \n",
      " 3   country       774 non-null    object        \n",
      " 4   date_added    1000 non-null   datetime64[ns]\n",
      " 5   release_year  1000 non-null   int64         \n",
      " 6   rating        1000 non-null   float64       \n",
      " 7   duration      1000 non-null   object        \n",
      " 8   genres        861 non-null    object        \n",
      " 9   language      1000 non-null   object        \n",
      " 10  popularity    1000 non-null   float64       \n",
      " 11  vote_count    1000 non-null   int64         \n",
      " 12  vote_average  1000 non-null   float64       \n",
      "dtypes: datetime64[ns](1), float64(3), int64(3), object(6)\n",
      "memory usage: 101.7+ KB\n"
     ]
    }
   ],
   "source": [
    "df.info()"
   ]
  },
  {
   "cell_type": "code",
   "execution_count": 90,
   "id": "b7351625",
   "metadata": {},
   "outputs": [
    {
     "data": {
      "text/plain": [
       "(1000, 13)"
      ]
     },
     "execution_count": 90,
     "metadata": {},
     "output_type": "execute_result"
    }
   ],
   "source": [
    "df.shape"
   ]
  },
  {
   "cell_type": "code",
   "execution_count": 91,
   "id": "996a61db",
   "metadata": {},
   "outputs": [
    {
     "data": {
      "text/html": [
       "<div>\n",
       "<style scoped>\n",
       "    .dataframe tbody tr th:only-of-type {\n",
       "        vertical-align: middle;\n",
       "    }\n",
       "\n",
       "    .dataframe tbody tr th {\n",
       "        vertical-align: top;\n",
       "    }\n",
       "\n",
       "    .dataframe thead th {\n",
       "        text-align: right;\n",
       "    }\n",
       "</style>\n",
       "<table border=\"1\" class=\"dataframe\">\n",
       "  <thead>\n",
       "    <tr style=\"text-align: right;\">\n",
       "      <th></th>\n",
       "      <th>show_id</th>\n",
       "      <th>type</th>\n",
       "      <th>title</th>\n",
       "      <th>country</th>\n",
       "      <th>date_added</th>\n",
       "      <th>release_year</th>\n",
       "      <th>rating</th>\n",
       "      <th>duration</th>\n",
       "      <th>genres</th>\n",
       "      <th>language</th>\n",
       "      <th>popularity</th>\n",
       "      <th>vote_count</th>\n",
       "      <th>vote_average</th>\n",
       "    </tr>\n",
       "  </thead>\n",
       "  <tbody>\n",
       "    <tr>\n",
       "      <th>0</th>\n",
       "      <td>250060</td>\n",
       "      <td>TV Show</td>\n",
       "      <td>The First Frost</td>\n",
       "      <td>China</td>\n",
       "      <td>2025-02-18</td>\n",
       "      <td>2025</td>\n",
       "      <td>5.0</td>\n",
       "      <td>1 Seasons</td>\n",
       "      <td>Drama</td>\n",
       "      <td>zh</td>\n",
       "      <td>2073.387</td>\n",
       "      <td>2</td>\n",
       "      <td>5.0</td>\n",
       "    </tr>\n",
       "    <tr>\n",
       "      <th>1</th>\n",
       "      <td>278428</td>\n",
       "      <td>TV Show</td>\n",
       "      <td>Incognito</td>\n",
       "      <td>Philippines</td>\n",
       "      <td>2025-01-20</td>\n",
       "      <td>2025</td>\n",
       "      <td>10.0</td>\n",
       "      <td>1 Seasons</td>\n",
       "      <td>Action &amp; Adventure, Drama</td>\n",
       "      <td>tl</td>\n",
       "      <td>1449.087</td>\n",
       "      <td>1</td>\n",
       "      <td>10.0</td>\n",
       "    </tr>\n",
       "    <tr>\n",
       "      <th>2</th>\n",
       "      <td>279257</td>\n",
       "      <td>TV Show</td>\n",
       "      <td>Hallo Kroket!</td>\n",
       "      <td>Belgium</td>\n",
       "      <td>2025-01-06</td>\n",
       "      <td>2025</td>\n",
       "      <td>0.0</td>\n",
       "      <td>1 Seasons</td>\n",
       "      <td>Kids, Reality</td>\n",
       "      <td>nl</td>\n",
       "      <td>1402.409</td>\n",
       "      <td>0</td>\n",
       "      <td>0.0</td>\n",
       "    </tr>\n",
       "    <tr>\n",
       "      <th>3</th>\n",
       "      <td>279914</td>\n",
       "      <td>TV Show</td>\n",
       "      <td>SÄ¾ub</td>\n",
       "      <td>Slovakia</td>\n",
       "      <td>2025-01-13</td>\n",
       "      <td>2025</td>\n",
       "      <td>0.0</td>\n",
       "      <td>1 Seasons</td>\n",
       "      <td>Family</td>\n",
       "      <td>sk</td>\n",
       "      <td>1390.092</td>\n",
       "      <td>0</td>\n",
       "      <td>0.0</td>\n",
       "    </tr>\n",
       "    <tr>\n",
       "      <th>4</th>\n",
       "      <td>280829</td>\n",
       "      <td>TV Show</td>\n",
       "      <td>Pokoli rokonok</td>\n",
       "      <td>Hungary</td>\n",
       "      <td>2025-01-02</td>\n",
       "      <td>2025</td>\n",
       "      <td>8.5</td>\n",
       "      <td>1 Seasons</td>\n",
       "      <td>Drama</td>\n",
       "      <td>hu</td>\n",
       "      <td>1364.861</td>\n",
       "      <td>4</td>\n",
       "      <td>8.5</td>\n",
       "    </tr>\n",
       "  </tbody>\n",
       "</table>\n",
       "</div>"
      ],
      "text/plain": [
       "   show_id     type            title      country date_added  release_year  \\\n",
       "0   250060  TV Show  The First Frost        China 2025-02-18          2025   \n",
       "1   278428  TV Show        Incognito  Philippines 2025-01-20          2025   \n",
       "2   279257  TV Show    Hallo Kroket!      Belgium 2025-01-06          2025   \n",
       "3   279914  TV Show            SÄ¾ub     Slovakia 2025-01-13          2025   \n",
       "4   280829  TV Show   Pokoli rokonok      Hungary 2025-01-02          2025   \n",
       "\n",
       "   rating   duration                     genres language  popularity  \\\n",
       "0     5.0  1 Seasons                      Drama       zh    2073.387   \n",
       "1    10.0  1 Seasons  Action & Adventure, Drama       tl    1449.087   \n",
       "2     0.0  1 Seasons              Kids, Reality       nl    1402.409   \n",
       "3     0.0  1 Seasons                     Family       sk    1390.092   \n",
       "4     8.5  1 Seasons                      Drama       hu    1364.861   \n",
       "\n",
       "   vote_count  vote_average  \n",
       "0           2           5.0  \n",
       "1           1          10.0  \n",
       "2           0           0.0  \n",
       "3           0           0.0  \n",
       "4           4           8.5  "
      ]
     },
     "execution_count": 91,
     "metadata": {},
     "output_type": "execute_result"
    }
   ],
   "source": [
    "df.head()"
   ]
  },
  {
   "cell_type": "code",
   "execution_count": 92,
   "id": "628989df",
   "metadata": {},
   "outputs": [
    {
     "data": {
      "text/html": [
       "<div>\n",
       "<style scoped>\n",
       "    .dataframe tbody tr th:only-of-type {\n",
       "        vertical-align: middle;\n",
       "    }\n",
       "\n",
       "    .dataframe tbody tr th {\n",
       "        vertical-align: top;\n",
       "    }\n",
       "\n",
       "    .dataframe thead th {\n",
       "        text-align: right;\n",
       "    }\n",
       "</style>\n",
       "<table border=\"1\" class=\"dataframe\">\n",
       "  <thead>\n",
       "    <tr style=\"text-align: right;\">\n",
       "      <th></th>\n",
       "      <th>show_id</th>\n",
       "      <th>type</th>\n",
       "      <th>title</th>\n",
       "      <th>country</th>\n",
       "      <th>date_added</th>\n",
       "      <th>release_year</th>\n",
       "      <th>rating</th>\n",
       "      <th>duration</th>\n",
       "      <th>genres</th>\n",
       "      <th>language</th>\n",
       "      <th>popularity</th>\n",
       "      <th>vote_count</th>\n",
       "      <th>vote_average</th>\n",
       "    </tr>\n",
       "  </thead>\n",
       "  <tbody>\n",
       "    <tr>\n",
       "      <th>995</th>\n",
       "      <td>284892</td>\n",
       "      <td>TV Show</td>\n",
       "      <td>Sammelanam</td>\n",
       "      <td>NaN</td>\n",
       "      <td>2025-02-20</td>\n",
       "      <td>2025</td>\n",
       "      <td>0.0</td>\n",
       "      <td>1 Seasons</td>\n",
       "      <td>Comedy, Drama</td>\n",
       "      <td>te</td>\n",
       "      <td>3.236</td>\n",
       "      <td>0</td>\n",
       "      <td>0.0</td>\n",
       "    </tr>\n",
       "    <tr>\n",
       "      <th>996</th>\n",
       "      <td>277665</td>\n",
       "      <td>TV Show</td>\n",
       "      <td>Anne Shirley</td>\n",
       "      <td>Japan</td>\n",
       "      <td>2025-04-05</td>\n",
       "      <td>2025</td>\n",
       "      <td>0.0</td>\n",
       "      <td>1 Seasons</td>\n",
       "      <td>Animation, Drama, Family</td>\n",
       "      <td>ja</td>\n",
       "      <td>3.558</td>\n",
       "      <td>0</td>\n",
       "      <td>0.0</td>\n",
       "    </tr>\n",
       "    <tr>\n",
       "      <th>997</th>\n",
       "      <td>284972</td>\n",
       "      <td>TV Show</td>\n",
       "      <td>Le onde del passato</td>\n",
       "      <td>NaN</td>\n",
       "      <td>2025-02-19</td>\n",
       "      <td>2025</td>\n",
       "      <td>10.0</td>\n",
       "      <td>1 Seasons</td>\n",
       "      <td>Drama</td>\n",
       "      <td>it</td>\n",
       "      <td>2.913</td>\n",
       "      <td>1</td>\n",
       "      <td>10.0</td>\n",
       "    </tr>\n",
       "    <tr>\n",
       "      <th>998</th>\n",
       "      <td>284613</td>\n",
       "      <td>TV Show</td>\n",
       "      <td>AIížˆì¹˜í•˜ì´ì»¤</td>\n",
       "      <td>NaN</td>\n",
       "      <td>2025-02-16</td>\n",
       "      <td>2025</td>\n",
       "      <td>0.0</td>\n",
       "      <td>1 Seasons</td>\n",
       "      <td>NaN</td>\n",
       "      <td>ko</td>\n",
       "      <td>2.787</td>\n",
       "      <td>0</td>\n",
       "      <td>0.0</td>\n",
       "    </tr>\n",
       "    <tr>\n",
       "      <th>999</th>\n",
       "      <td>251815</td>\n",
       "      <td>TV Show</td>\n",
       "      <td>Alex &amp; Laura's Saturday Night Takeaway</td>\n",
       "      <td>NaN</td>\n",
       "      <td>2025-02-15</td>\n",
       "      <td>2025</td>\n",
       "      <td>0.0</td>\n",
       "      <td>1 Seasons</td>\n",
       "      <td>Comedy, Family</td>\n",
       "      <td>en</td>\n",
       "      <td>2.485</td>\n",
       "      <td>0</td>\n",
       "      <td>0.0</td>\n",
       "    </tr>\n",
       "  </tbody>\n",
       "</table>\n",
       "</div>"
      ],
      "text/plain": [
       "     show_id     type                                   title country  \\\n",
       "995   284892  TV Show                              Sammelanam     NaN   \n",
       "996   277665  TV Show                            Anne Shirley   Japan   \n",
       "997   284972  TV Show                     Le onde del passato     NaN   \n",
       "998   284613  TV Show                       AIížˆì¹˜í•˜ì´ì»¤     NaN   \n",
       "999   251815  TV Show  Alex & Laura's Saturday Night Takeaway     NaN   \n",
       "\n",
       "    date_added  release_year  rating   duration                    genres  \\\n",
       "995 2025-02-20          2025     0.0  1 Seasons             Comedy, Drama   \n",
       "996 2025-04-05          2025     0.0  1 Seasons  Animation, Drama, Family   \n",
       "997 2025-02-19          2025    10.0  1 Seasons                     Drama   \n",
       "998 2025-02-16          2025     0.0  1 Seasons                       NaN   \n",
       "999 2025-02-15          2025     0.0  1 Seasons            Comedy, Family   \n",
       "\n",
       "    language  popularity  vote_count  vote_average  \n",
       "995       te       3.236           0           0.0  \n",
       "996       ja       3.558           0           0.0  \n",
       "997       it       2.913           1          10.0  \n",
       "998       ko       2.787           0           0.0  \n",
       "999       en       2.485           0           0.0  "
      ]
     },
     "execution_count": 92,
     "metadata": {},
     "output_type": "execute_result"
    }
   ],
   "source": [
    "df.tail()"
   ]
  },
  {
   "cell_type": "code",
   "execution_count": 93,
   "id": "680a431a",
   "metadata": {},
   "outputs": [
    {
     "data": {
      "text/html": [
       "<div>\n",
       "<style scoped>\n",
       "    .dataframe tbody tr th:only-of-type {\n",
       "        vertical-align: middle;\n",
       "    }\n",
       "\n",
       "    .dataframe tbody tr th {\n",
       "        vertical-align: top;\n",
       "    }\n",
       "\n",
       "    .dataframe thead th {\n",
       "        text-align: right;\n",
       "    }\n",
       "</style>\n",
       "<table border=\"1\" class=\"dataframe\">\n",
       "  <thead>\n",
       "    <tr style=\"text-align: right;\">\n",
       "      <th></th>\n",
       "      <th>show_id</th>\n",
       "      <th>date_added</th>\n",
       "      <th>release_year</th>\n",
       "      <th>rating</th>\n",
       "      <th>popularity</th>\n",
       "      <th>vote_count</th>\n",
       "      <th>vote_average</th>\n",
       "    </tr>\n",
       "  </thead>\n",
       "  <tbody>\n",
       "    <tr>\n",
       "      <th>count</th>\n",
       "      <td>1000.000000</td>\n",
       "      <td>1000</td>\n",
       "      <td>1000.0</td>\n",
       "      <td>1000.000000</td>\n",
       "      <td>1000.000000</td>\n",
       "      <td>1000.000000</td>\n",
       "      <td>1000.000000</td>\n",
       "    </tr>\n",
       "    <tr>\n",
       "      <th>mean</th>\n",
       "      <td>269989.231000</td>\n",
       "      <td>2025-02-12 04:01:55.200000</td>\n",
       "      <td>2025.0</td>\n",
       "      <td>2.697521</td>\n",
       "      <td>37.538567</td>\n",
       "      <td>3.179000</td>\n",
       "      <td>2.697521</td>\n",
       "    </tr>\n",
       "    <tr>\n",
       "      <th>min</th>\n",
       "      <td>114471.000000</td>\n",
       "      <td>2025-01-01 00:00:00</td>\n",
       "      <td>2025.0</td>\n",
       "      <td>0.000000</td>\n",
       "      <td>2.323000</td>\n",
       "      <td>0.000000</td>\n",
       "      <td>0.000000</td>\n",
       "    </tr>\n",
       "    <tr>\n",
       "      <th>25%</th>\n",
       "      <td>259411.750000</td>\n",
       "      <td>2025-01-19 00:00:00</td>\n",
       "      <td>2025.0</td>\n",
       "      <td>0.000000</td>\n",
       "      <td>6.846500</td>\n",
       "      <td>0.000000</td>\n",
       "      <td>0.000000</td>\n",
       "    </tr>\n",
       "    <tr>\n",
       "      <th>50%</th>\n",
       "      <td>280969.000000</td>\n",
       "      <td>2025-02-12 00:00:00</td>\n",
       "      <td>2025.0</td>\n",
       "      <td>0.000000</td>\n",
       "      <td>12.694000</td>\n",
       "      <td>0.000000</td>\n",
       "      <td>0.000000</td>\n",
       "    </tr>\n",
       "    <tr>\n",
       "      <th>75%</th>\n",
       "      <td>283720.500000</td>\n",
       "      <td>2025-03-01 00:00:00</td>\n",
       "      <td>2025.0</td>\n",
       "      <td>7.000000</td>\n",
       "      <td>25.710250</td>\n",
       "      <td>1.000000</td>\n",
       "      <td>7.000000</td>\n",
       "    </tr>\n",
       "    <tr>\n",
       "      <th>max</th>\n",
       "      <td>285345.000000</td>\n",
       "      <td>2025-12-31 00:00:00</td>\n",
       "      <td>2025.0</td>\n",
       "      <td>10.000000</td>\n",
       "      <td>2073.387000</td>\n",
       "      <td>235.000000</td>\n",
       "      <td>10.000000</td>\n",
       "    </tr>\n",
       "    <tr>\n",
       "      <th>std</th>\n",
       "      <td>22672.946108</td>\n",
       "      <td>NaN</td>\n",
       "      <td>0.0</td>\n",
       "      <td>3.702193</td>\n",
       "      <td>123.585143</td>\n",
       "      <td>13.451539</td>\n",
       "      <td>3.702193</td>\n",
       "    </tr>\n",
       "  </tbody>\n",
       "</table>\n",
       "</div>"
      ],
      "text/plain": [
       "             show_id                  date_added  release_year       rating  \\\n",
       "count    1000.000000                        1000        1000.0  1000.000000   \n",
       "mean   269989.231000  2025-02-12 04:01:55.200000        2025.0     2.697521   \n",
       "min    114471.000000         2025-01-01 00:00:00        2025.0     0.000000   \n",
       "25%    259411.750000         2025-01-19 00:00:00        2025.0     0.000000   \n",
       "50%    280969.000000         2025-02-12 00:00:00        2025.0     0.000000   \n",
       "75%    283720.500000         2025-03-01 00:00:00        2025.0     7.000000   \n",
       "max    285345.000000         2025-12-31 00:00:00        2025.0    10.000000   \n",
       "std     22672.946108                         NaN           0.0     3.702193   \n",
       "\n",
       "        popularity   vote_count  vote_average  \n",
       "count  1000.000000  1000.000000   1000.000000  \n",
       "mean     37.538567     3.179000      2.697521  \n",
       "min       2.323000     0.000000      0.000000  \n",
       "25%       6.846500     0.000000      0.000000  \n",
       "50%      12.694000     0.000000      0.000000  \n",
       "75%      25.710250     1.000000      7.000000  \n",
       "max    2073.387000   235.000000     10.000000  \n",
       "std     123.585143    13.451539      3.702193  "
      ]
     },
     "execution_count": 93,
     "metadata": {},
     "output_type": "execute_result"
    }
   ],
   "source": [
    "df.describe()"
   ]
  },
  {
   "cell_type": "code",
   "execution_count": 94,
   "id": "dfb85dea",
   "metadata": {},
   "outputs": [
    {
     "data": {
      "text/plain": [
       "np.int64(0)"
      ]
     },
     "execution_count": 94,
     "metadata": {},
     "output_type": "execute_result"
    }
   ],
   "source": [
    "df.duplicated().sum()"
   ]
  },
  {
   "cell_type": "code",
   "execution_count": 95,
   "id": "494dd14d",
   "metadata": {},
   "outputs": [
    {
     "data": {
      "text/plain": [
       "show_id         991\n",
       "type              1\n",
       "title           990\n",
       "country          89\n",
       "date_added      115\n",
       "release_year      1\n",
       "rating           81\n",
       "duration          1\n",
       "genres          162\n",
       "language         41\n",
       "popularity      941\n",
       "vote_count       49\n",
       "vote_average     81\n",
       "dtype: int64"
      ]
     },
     "execution_count": 95,
     "metadata": {},
     "output_type": "execute_result"
    }
   ],
   "source": [
    "df.nunique()"
   ]
  },
  {
   "cell_type": "markdown",
   "id": "c35a9fb6",
   "metadata": {},
   "source": [
    "### Finding Null Values/Missing Values"
   ]
  },
  {
   "cell_type": "code",
   "execution_count": 96,
   "id": "3a6c47ee",
   "metadata": {},
   "outputs": [
    {
     "data": {
      "text/plain": [
       "show_id           0\n",
       "type              0\n",
       "title             0\n",
       "country         226\n",
       "date_added        0\n",
       "release_year      0\n",
       "rating            0\n",
       "duration          0\n",
       "genres          139\n",
       "language          0\n",
       "popularity        0\n",
       "vote_count        0\n",
       "vote_average      0\n",
       "dtype: int64"
      ]
     },
     "execution_count": 96,
     "metadata": {},
     "output_type": "execute_result"
    }
   ],
   "source": [
    "df.isnull().sum()"
   ]
  },
  {
   "cell_type": "code",
   "execution_count": 97,
   "id": "abe96b58",
   "metadata": {},
   "outputs": [
    {
     "data": {
      "text/plain": [
       "show_id          0.0\n",
       "type             0.0\n",
       "title            0.0\n",
       "country         22.6\n",
       "date_added       0.0\n",
       "release_year     0.0\n",
       "rating           0.0\n",
       "duration         0.0\n",
       "genres          13.9\n",
       "language         0.0\n",
       "popularity       0.0\n",
       "vote_count       0.0\n",
       "vote_average     0.0\n",
       "dtype: float64"
      ]
     },
     "execution_count": 97,
     "metadata": {},
     "output_type": "execute_result"
    }
   ],
   "source": [
    "df.isnull().sum() / len(df) * 100"
   ]
  },
  {
   "cell_type": "code",
   "execution_count": 98,
   "id": "c62624ad",
   "metadata": {},
   "outputs": [
    {
     "data": {
      "text/plain": [
       "Text(0.5, 1.0, 'Missing Values Heatmap')"
      ]
     },
     "execution_count": 98,
     "metadata": {},
     "output_type": "execute_result"
    },
    {
     "data": {
      "image/png": "[encoded data removed]",
      "text/plain": [
       "<Figure size 640x480 with 1 Axes>"
      ]
     },
     "metadata": {},
     "output_type": "display_data"
    }
   ],
   "source": [
    "sns.heatmap(df.isnull(), cbar=False, yticklabels=False, cmap='viridis')\n",
    "plt.title('Missing Values Heatmap')"
   ]
  },
  {
   "cell_type": "markdown",
   "id": "a611ec28",
   "metadata": {},
   "source": [
    "### Finding Outliers"
   ]
  },
  {
   "cell_type": "code",
   "execution_count": 99,
   "id": "0bd65283",
   "metadata": {},
   "outputs": [
    {
     "data": {
      "text/plain": [
       "<Axes: ylabel='popularity'>"
      ]
     },
     "execution_count": 99,
     "metadata": {},
     "output_type": "execute_result"
    },
    {
     "data": {
      "image/png": "[encoded data removed]",
      "text/plain": [
       "<Figure size 640x480 with 1 Axes>"
      ]
     },
     "metadata": {},
     "output_type": "display_data"
    }
   ],
   "source": [
    "sns.boxplot(data=df, y = 'popularity')"
   ]
  },
  {
   "cell_type": "code",
   "execution_count": 100,
   "id": "f6826521",
   "metadata": {},
   "outputs": [
    {
     "data": {
      "text/plain": [
       "<Axes: ylabel='rating'>"
      ]
     },
     "execution_count": 100,
     "metadata": {},
     "output_type": "execute_result"
    },
    {
     "data": {
      "image/png": "[encoded data removed]",
      "text/plain": [
       "<Figure size 640x480 with 1 Axes>"
      ]
     },
     "metadata": {},
     "output_type": "display_data"
    }
   ],
   "source": [
    "sns.boxplot(data=df, y = 'rating')"
   ]
  },
  {
   "cell_type": "code",
   "execution_count": 101,
   "id": "d2bcf707",
   "metadata": {},
   "outputs": [
    {
     "data": {
      "text/plain": [
       "<Axes: ylabel='vote_count'>"
      ]
     },
     "execution_count": 101,
     "metadata": {},
     "output_type": "execute_result"
    },
    {
     "data": {
      "image/png": "[encoded data removed]",
      "text/plain": [
       "<Figure size 640x480 with 1 Axes>"
      ]
     },
     "metadata": {},
     "output_type": "display_data"
    }
   ],
   "source": [
    "sns.boxplot(data=df, y = 'vote_count')"
   ]
  },
  {
   "cell_type": "code",
   "execution_count": 102,
   "id": "0891323b",
   "metadata": {},
   "outputs": [
    {
     "data": {
      "text/plain": [
       "<Axes: ylabel='vote_average'>"
      ]
     },
     "execution_count": 102,
     "metadata": {},
     "output_type": "execute_result"
    },
    {
     "data": {
      "image/png": "[encoded data removed]",
      "text/plain": [
       "<Figure size 640x480 with 1 Axes>"
      ]
     },
     "metadata": {},
     "output_type": "display_data"
    }
   ],
   "source": [
    "sns.boxplot(data=df, y = 'vote_average')"
   ]
  },
  {
   "cell_type": "markdown",
   "id": "e031bf87",
   "metadata": {},
   "source": [
    "## Checking The distribution"
   ]
  },
  {
   "cell_type": "code",
   "execution_count": 103,
   "id": "c0a79098",
   "metadata": {},
   "outputs": [
    {
     "data": {
      "text/plain": [
       "<Axes: xlabel='popularity', ylabel='Count'>"
      ]
     },
     "execution_count": 103,
     "metadata": {},
     "output_type": "execute_result"
    },
    {
     "data": {
      "image/png": "[encoded data removed]",
      "text/plain": [
       "<Figure size 640x480 with 1 Axes>"
      ]
     },
     "metadata": {},
     "output_type": "display_data"
    }
   ],
   "source": [
    "sns.histplot(df['popularity'], kde=True)"
   ]
  },
  {
   "cell_type": "code",
   "execution_count": 104,
   "id": "2ec58275",
   "metadata": {},
   "outputs": [
    {
     "data": {
      "text/plain": [
       "<Axes: xlabel='rating', ylabel='Count'>"
      ]
     },
     "execution_count": 104,
     "metadata": {},
     "output_type": "execute_result"
    },
    {
     "data": {
      "image/png": "[encoded data removed]",
      "text/plain": [
       "<Figure size 640x480 with 1 Axes>"
      ]
     },
     "metadata": {},
     "output_type": "display_data"
    }
   ],
   "source": [
    "sns.histplot(df['rating'], kde=True)"
   ]
  },
  {
   "cell_type": "code",
   "execution_count": 105,
   "id": "cd5ef62d",
   "metadata": {},
   "outputs": [
    {
     "data": {
      "text/plain": [
       "<Axes: xlabel='vote_count', ylabel='Count'>"
      ]
     },
     "execution_count": 105,
     "metadata": {},
     "output_type": "execute_result"
    },
    {
     "data": {
      "image/png": "[encoded data removed]",
      "text/plain": [
       "<Figure size 640x480 with 1 Axes>"
      ]
     },
     "metadata": {},
     "output_type": "display_data"
    }
   ],
   "source": [
    "sns.histplot(df['vote_count'], kde=True)"
   ]
  },
  {
   "cell_type": "code",
   "execution_count": 106,
   "id": "990e4e22",
   "metadata": {},
   "outputs": [
    {
     "data": {
      "text/plain": [
       "<Axes: xlabel='vote_average', ylabel='Count'>"
      ]
     },
     "execution_count": 106,
     "metadata": {},
     "output_type": "execute_result"
    },
    {
     "data": {
      "image/png": "[encoded data removed]",
      "text/plain": [
       "<Figure size 640x480 with 1 Axes>"
      ]
     },
     "metadata": {},
     "output_type": "display_data"
    }
   ],
   "source": [
    "sns.histplot(df['vote_average'], kde=True)"
   ]
  },
  {
   "cell_type": "markdown",
   "id": "cb6bab5d",
   "metadata": {},
   "source": [
    "# Now, Wrangling Start"
   ]
  },
  {
   "cell_type": "markdown",
   "id": "f82bb324",
   "metadata": {},
   "source": [
    "## First Handling Missing Values"
   ]
  },
  {
   "cell_type": "markdown",
   "id": "12646f10",
   "metadata": {},
   "source": [
    "### Impute the country column using a dictionary of languages, and language column that is present in data"
   ]
  },
  {
   "cell_type": "markdown",
   "id": "35a8c431",
   "metadata": {},
   "source": [
    "#### Country:"
   ]
  },
  {
   "cell_type": "code",
   "execution_count": 107,
   "id": "002b8627",
   "metadata": {},
   "outputs": [],
   "source": [
    "# Example dictionary (you can expand it based on your dataset)\n",
    "language_country_map = {\n",
    "    'English': 'United States',\n",
    "    'Hindi': 'India',\n",
    "    'Spanish': 'Spain',  # or 'Mexico' depending on your dataset distribution\n",
    "    'French': 'France',\n",
    "    'Japanese': 'Japan',\n",
    "    'Korean': 'South Korea',\n",
    "    'Mandarin': 'China',\n",
    "    'German': 'Germany',\n",
    "    'Italian': 'Italy',\n",
    "    'Turkish': 'Turkey'\n",
    "}\n"
   ]
  },
  {
   "cell_type": "markdown",
   "id": "03e20b30",
   "metadata": {},
   "source": [
    "### Now fill country missing based on this dictionary, and fill else with unknown"
   ]
  },
  {
   "cell_type": "code",
   "execution_count": 108,
   "id": "3fa3d34a",
   "metadata": {},
   "outputs": [],
   "source": [
    "import numpy as np\n",
    "\n",
    "# Fill missing 'country' using 'language' column\n",
    "df['country'] = np.where(\n",
    "    df['country'].isna(), \n",
    "    df['language'].map(language_country_map),  # map language to country\n",
    "    df['country']  # keep existing country\n",
    ")\n",
    "\n",
    "# For any rows where country is still missing (language not in map), fill with \"Unknown\"\n",
    "df['country'] = df['country'].fillna(\"Unknown\")"
   ]
  },
  {
   "cell_type": "code",
   "execution_count": 109,
   "id": "6526b4db",
   "metadata": {},
   "outputs": [
    {
     "data": {
      "text/plain": [
       "show_id           0\n",
       "type              0\n",
       "title             0\n",
       "country           0\n",
       "date_added        0\n",
       "release_year      0\n",
       "rating            0\n",
       "duration          0\n",
       "genres          139\n",
       "language          0\n",
       "popularity        0\n",
       "vote_count        0\n",
       "vote_average      0\n",
       "dtype: int64"
      ]
     },
     "execution_count": 109,
     "metadata": {},
     "output_type": "execute_result"
    }
   ],
   "source": [
    "df.isnull().sum()"
   ]
  },
  {
   "cell_type": "code",
   "execution_count": 110,
   "id": "1100dd8b",
   "metadata": {},
   "outputs": [
    {
     "data": {
      "text/plain": [
       "<Axes: >"
      ]
     },
     "execution_count": 110,
     "metadata": {},
     "output_type": "execute_result"
    },
    {
     "data": {
      "image/png": "[encoded data removed]",
      "text/plain": [
       "<Figure size 640x480 with 1 Axes>"
      ]
     },
     "metadata": {},
     "output_type": "display_data"
    }
   ],
   "source": [
    "sns.heatmap(df.isnull(), cbar=False, yticklabels=False, cmap='viridis')"
   ]
  },
  {
   "cell_type": "markdown",
   "id": "2ec0daa0",
   "metadata": {},
   "source": [
    "#### Genre"
   ]
  },
  {
   "cell_type": "markdown",
   "id": "af5762c5",
   "metadata": {},
   "source": [
    "### Impute genres by the help of title column"
   ]
  },
  {
   "cell_type": "markdown",
   "id": "d331da25",
   "metadata": {},
   "source": [
    "### First, define a dictionary of keywords related to genres"
   ]
  },
  {
   "cell_type": "code",
   "execution_count": 111,
   "id": "82ba4c14",
   "metadata": {},
   "outputs": [],
   "source": [
    "# Dictionary of keywords and their corresponding genres\n",
    "keyword_genre_map = {\n",
    "    'love': 'Romance',\n",
    "    'romantic': 'Romance',\n",
    "    'crime': 'Crime',\n",
    "    'detective': 'Crime',\n",
    "    'murder': 'Crime',\n",
    "    'war': 'War',\n",
    "    'battle': 'War',\n",
    "    'science': 'Sci-Fi',\n",
    "    'space': 'Sci-Fi',\n",
    "    'alien': 'Sci-Fi',\n",
    "    'comedy': 'Comedy',\n",
    "    'funny': 'Comedy',\n",
    "    'drama': 'Drama',\n",
    "    'documentary': 'Documentary',\n",
    "    'history': 'History',\n",
    "    'biography': 'Documentary',\n",
    "    'music': 'Music',\n",
    "    'concert': 'Music',\n",
    "    'horror': 'Horror',\n",
    "    'thriller': 'Thriller',\n",
    "    'adventure': 'Adventure',\n",
    "    'fantasy': 'Fantasy',\n",
    "    'superhero': 'Action',\n",
    "    'action': 'Action'\n",
    "}\n"
   ]
  },
  {
   "cell_type": "markdown",
   "id": "25b665e3",
   "metadata": {},
   "source": [
    "### Define a function to assign genres"
   ]
  },
  {
   "cell_type": "code",
   "execution_count": 112,
   "id": "b2b04a27",
   "metadata": {},
   "outputs": [],
   "source": [
    "import numpy as np\n",
    "\n",
    "def infer_genre_from_title(title): # defining a function\n",
    "    if pd.isna(title): # if there is any missing row in title, so return \"none\"\n",
    "        return None\n",
    "    title_lower = title.lower() # convert entries of title in lower case\n",
    "    for keyword, genre in keyword_genre_map.items(): # Loops through every keyword → genre pair in your keyword_genre_map dictionary.\n",
    "        if keyword in title_lower: # if keyword is present then rturn genre\n",
    "            return genre\n",
    "    return None  # If no keyword matches\n"
   ]
  },
  {
   "cell_type": "markdown",
   "id": "fb0d069c",
   "metadata": {},
   "source": [
    "### Now fill the missing genres using function"
   ]
  },
  {
   "cell_type": "code",
   "execution_count": 113,
   "id": "69f965e5",
   "metadata": {},
   "outputs": [],
   "source": [
    "# Fill missing genres based on title\n",
    "df['genres'] = np.where(\n",
    "    df['genres'].isna(), # where genre is missing\n",
    "    df['title'].apply(infer_genre_from_title), # apply the function on title \n",
    "    df['genres'] # and fill genres where it is missing\n",
    ")\n",
    "\n",
    "# If some still remain missing, fill them as \"Unknown\"\n",
    "df['genres'] = df['genres'].fillna(\"Unknown\")\n"
   ]
  },
  {
   "cell_type": "code",
   "execution_count": 114,
   "id": "14676f39",
   "metadata": {},
   "outputs": [
    {
     "data": {
      "text/plain": [
       "show_id         0\n",
       "type            0\n",
       "title           0\n",
       "country         0\n",
       "date_added      0\n",
       "release_year    0\n",
       "rating          0\n",
       "duration        0\n",
       "genres          0\n",
       "language        0\n",
       "popularity      0\n",
       "vote_count      0\n",
       "vote_average    0\n",
       "dtype: int64"
      ]
     },
     "execution_count": 114,
     "metadata": {},
     "output_type": "execute_result"
    }
   ],
   "source": [
    "df.isnull().sum()"
   ]
  },
  {
   "cell_type": "code",
   "execution_count": 115,
   "id": "2810df94",
   "metadata": {},
   "outputs": [
    {
     "data": {
      "text/plain": [
       "<Axes: >"
      ]
     },
     "execution_count": 115,
     "metadata": {},
     "output_type": "execute_result"
    },
    {
     "data": {
      "image/png": "[encoded data removed]",
      "text/plain": [
       "<Figure size 640x480 with 1 Axes>"
      ]
     },
     "metadata": {},
     "output_type": "display_data"
    }
   ],
   "source": [
    "sns.heatmap(df.isnull(), cbar=False, yticklabels=False, cmap='viridis')"
   ]
  },
  {
   "cell_type": "markdown",
   "id": "9efee03d",
   "metadata": {},
   "source": [
    "### Missing values done"
   ]
  },
  {
   "cell_type": "markdown",
   "id": "b974c680",
   "metadata": {},
   "source": [
    "# Dealing with Outliers"
   ]
  },
  {
   "cell_type": "markdown",
   "id": "2089145c",
   "metadata": {},
   "source": [
    "### Popularity and Vote_count have some outliers\n"
   ]
  },
  {
   "cell_type": "code",
   "execution_count": 116,
   "id": "58816833",
   "metadata": {},
   "outputs": [
    {
     "data": {
      "text/plain": [
       "<Axes: ylabel='popularity'>"
      ]
     },
     "execution_count": 116,
     "metadata": {},
     "output_type": "execute_result"
    },
    {
     "data": {
      "image/png": "[encoded data removed]",
      "text/plain": [
       "<Figure size 640x480 with 1 Axes>"
      ]
     },
     "metadata": {},
     "output_type": "display_data"
    }
   ],
   "source": [
    "sns.boxplot(data=df, y = 'popularity')"
   ]
  },
  {
   "cell_type": "code",
   "execution_count": 117,
   "id": "63343654",
   "metadata": {},
   "outputs": [
    {
     "data": {
      "text/plain": [
       "(1000, 13)"
      ]
     },
     "execution_count": 117,
     "metadata": {},
     "output_type": "execute_result"
    }
   ],
   "source": [
    "df.shape"
   ]
  },
  {
   "cell_type": "code",
   "execution_count": 118,
   "id": "dd1826c6",
   "metadata": {},
   "outputs": [
    {
     "data": {
      "text/plain": [
       "count    1000.000000\n",
       "mean       37.538567\n",
       "std       123.585143\n",
       "min         2.323000\n",
       "25%         6.846500\n",
       "50%        12.694000\n",
       "75%        25.710250\n",
       "max      2073.387000\n",
       "Name: popularity, dtype: float64"
      ]
     },
     "execution_count": 118,
     "metadata": {},
     "output_type": "execute_result"
    }
   ],
   "source": [
    "df['popularity'].describe()"
   ]
  },
  {
   "cell_type": "code",
   "execution_count": 119,
   "id": "227f3247",
   "metadata": {},
   "outputs": [
    {
     "data": {
      "text/plain": [
       "<Axes: ylabel='vote_count'>"
      ]
     },
     "execution_count": 119,
     "metadata": {},
     "output_type": "execute_result"
    },
    {
     "data": {
      "image/png": "[encoded data removed]",
      "text/plain": [
       "<Figure size 640x480 with 1 Axes>"
      ]
     },
     "metadata": {},
     "output_type": "display_data"
    }
   ],
   "source": [
    "sns.boxplot(data=df, y = 'vote_count')"
   ]
  },
  {
   "cell_type": "code",
   "execution_count": 120,
   "id": "381f66ac",
   "metadata": {},
   "outputs": [
    {
     "data": {
      "text/plain": [
       "count    1000.000000\n",
       "mean        3.179000\n",
       "std        13.451539\n",
       "min         0.000000\n",
       "25%         0.000000\n",
       "50%         0.000000\n",
       "75%         1.000000\n",
       "max       235.000000\n",
       "Name: vote_count, dtype: float64"
      ]
     },
     "execution_count": 120,
     "metadata": {},
     "output_type": "execute_result"
    }
   ],
   "source": [
    "df['vote_count'].describe()    "
   ]
  },
  {
   "cell_type": "markdown",
   "id": "f42c1730",
   "metadata": {},
   "source": [
    "### I have come to the point that these high values or zeroes are not the ouliers, but are the real data of netflix. We should not remove them instead we can scale them to analyze easily."
   ]
  },
  {
   "cell_type": "markdown",
   "id": "cd248e7a",
   "metadata": {},
   "source": [
    "# Now transforming the data"
   ]
  },
  {
   "cell_type": "markdown",
   "id": "251ceff0",
   "metadata": {},
   "source": [
    "### popularity\n",
    "### vote_count\n",
    "### rating\n",
    "### vote_average\n"
   ]
  },
  {
   "cell_type": "markdown",
   "id": "6721ac4f",
   "metadata": {},
   "source": [
    "## popularity"
   ]
  },
  {
   "cell_type": "code",
   "execution_count": 121,
   "id": "0579dc23",
   "metadata": {},
   "outputs": [
    {
     "data": {
      "text/html": [
       "<div>\n",
       "<style scoped>\n",
       "    .dataframe tbody tr th:only-of-type {\n",
       "        vertical-align: middle;\n",
       "    }\n",
       "\n",
       "    .dataframe tbody tr th {\n",
       "        vertical-align: top;\n",
       "    }\n",
       "\n",
       "    .dataframe thead th {\n",
       "        text-align: right;\n",
       "    }\n",
       "</style>\n",
       "<table border=\"1\" class=\"dataframe\">\n",
       "  <thead>\n",
       "    <tr style=\"text-align: right;\">\n",
       "      <th></th>\n",
       "      <th>show_id</th>\n",
       "      <th>type</th>\n",
       "      <th>title</th>\n",
       "      <th>country</th>\n",
       "      <th>date_added</th>\n",
       "      <th>release_year</th>\n",
       "      <th>rating</th>\n",
       "      <th>duration</th>\n",
       "      <th>genres</th>\n",
       "      <th>language</th>\n",
       "      <th>popularity</th>\n",
       "      <th>vote_count</th>\n",
       "      <th>vote_average</th>\n",
       "    </tr>\n",
       "  </thead>\n",
       "  <tbody>\n",
       "    <tr>\n",
       "      <th>0</th>\n",
       "      <td>250060</td>\n",
       "      <td>TV Show</td>\n",
       "      <td>The First Frost</td>\n",
       "      <td>China</td>\n",
       "      <td>2025-02-18</td>\n",
       "      <td>2025</td>\n",
       "      <td>5.0</td>\n",
       "      <td>1 Seasons</td>\n",
       "      <td>Drama</td>\n",
       "      <td>zh</td>\n",
       "      <td>7.636939</td>\n",
       "      <td>2</td>\n",
       "      <td>5.0</td>\n",
       "    </tr>\n",
       "    <tr>\n",
       "      <th>1</th>\n",
       "      <td>278428</td>\n",
       "      <td>TV Show</td>\n",
       "      <td>Incognito</td>\n",
       "      <td>Philippines</td>\n",
       "      <td>2025-01-20</td>\n",
       "      <td>2025</td>\n",
       "      <td>10.0</td>\n",
       "      <td>1 Seasons</td>\n",
       "      <td>Action &amp; Adventure, Drama</td>\n",
       "      <td>tl</td>\n",
       "      <td>7.278689</td>\n",
       "      <td>1</td>\n",
       "      <td>10.0</td>\n",
       "    </tr>\n",
       "    <tr>\n",
       "      <th>2</th>\n",
       "      <td>279257</td>\n",
       "      <td>TV Show</td>\n",
       "      <td>Hallo Kroket!</td>\n",
       "      <td>Belgium</td>\n",
       "      <td>2025-01-06</td>\n",
       "      <td>2025</td>\n",
       "      <td>0.0</td>\n",
       "      <td>1 Seasons</td>\n",
       "      <td>Kids, Reality</td>\n",
       "      <td>nl</td>\n",
       "      <td>7.245947</td>\n",
       "      <td>0</td>\n",
       "      <td>0.0</td>\n",
       "    </tr>\n",
       "    <tr>\n",
       "      <th>3</th>\n",
       "      <td>279914</td>\n",
       "      <td>TV Show</td>\n",
       "      <td>SÄ¾ub</td>\n",
       "      <td>Slovakia</td>\n",
       "      <td>2025-01-13</td>\n",
       "      <td>2025</td>\n",
       "      <td>0.0</td>\n",
       "      <td>1 Seasons</td>\n",
       "      <td>Family</td>\n",
       "      <td>sk</td>\n",
       "      <td>7.237125</td>\n",
       "      <td>0</td>\n",
       "      <td>0.0</td>\n",
       "    </tr>\n",
       "    <tr>\n",
       "      <th>4</th>\n",
       "      <td>280829</td>\n",
       "      <td>TV Show</td>\n",
       "      <td>Pokoli rokonok</td>\n",
       "      <td>Hungary</td>\n",
       "      <td>2025-01-02</td>\n",
       "      <td>2025</td>\n",
       "      <td>8.5</td>\n",
       "      <td>1 Seasons</td>\n",
       "      <td>Drama</td>\n",
       "      <td>hu</td>\n",
       "      <td>7.218808</td>\n",
       "      <td>4</td>\n",
       "      <td>8.5</td>\n",
       "    </tr>\n",
       "  </tbody>\n",
       "</table>\n",
       "</div>"
      ],
      "text/plain": [
       "   show_id     type            title      country date_added  release_year  \\\n",
       "0   250060  TV Show  The First Frost        China 2025-02-18          2025   \n",
       "1   278428  TV Show        Incognito  Philippines 2025-01-20          2025   \n",
       "2   279257  TV Show    Hallo Kroket!      Belgium 2025-01-06          2025   \n",
       "3   279914  TV Show            SÄ¾ub     Slovakia 2025-01-13          2025   \n",
       "4   280829  TV Show   Pokoli rokonok      Hungary 2025-01-02          2025   \n",
       "\n",
       "   rating   duration                     genres language  popularity  \\\n",
       "0     5.0  1 Seasons                      Drama       zh    7.636939   \n",
       "1    10.0  1 Seasons  Action & Adventure, Drama       tl    7.278689   \n",
       "2     0.0  1 Seasons              Kids, Reality       nl    7.245947   \n",
       "3     0.0  1 Seasons                     Family       sk    7.237125   \n",
       "4     8.5  1 Seasons                      Drama       hu    7.218808   \n",
       "\n",
       "   vote_count  vote_average  \n",
       "0           2           5.0  \n",
       "1           1          10.0  \n",
       "2           0           0.0  \n",
       "3           0           0.0  \n",
       "4           4           8.5  "
      ]
     },
     "execution_count": 121,
     "metadata": {},
     "output_type": "execute_result"
    }
   ],
   "source": [
    "# Normalizing the popularity using log transformation\n",
    "df['popularity'] = np.log(df['popularity'])\n",
    "df.head()"
   ]
  },
  {
   "cell_type": "code",
   "execution_count": 124,
   "id": "0cdce76d",
   "metadata": {},
   "outputs": [
    {
     "data": {
      "text/plain": [
       "<Axes: xlabel='popularity', ylabel='Count'>"
      ]
     },
     "execution_count": 124,
     "metadata": {},
     "output_type": "execute_result"
    },
    {
     "data": {
      "image/png": "[encoded data removed]",
      "text/plain": [
       "<Figure size 640x480 with 1 Axes>"
      ]
     },
     "metadata": {},
     "output_type": "display_data"
    }
   ],
   "source": [
    "sns.histplot(df['popularity'], kde=True)"
   ]
  },
  {
   "cell_type": "markdown",
   "id": "12c2ee6c",
   "metadata": {},
   "source": [
    "### After applying LOG on popularity"
   ]
  },
  {
   "cell_type": "markdown",
   "id": "dd982e95",
   "metadata": {},
   "source": [
    "### vote_count"
   ]
  },
  {
   "cell_type": "code",
   "execution_count": 122,
   "id": "c55ecdd9",
   "metadata": {},
   "outputs": [
    {
     "data": {
      "text/plain": [
       "count    1000.000000\n",
       "mean        3.179000\n",
       "std        13.451539\n",
       "min         0.000000\n",
       "25%         0.000000\n",
       "50%         0.000000\n",
       "75%         1.000000\n",
       "max       235.000000\n",
       "Name: vote_count, dtype: float64"
      ]
     },
     "execution_count": 122,
     "metadata": {},
     "output_type": "execute_result"
    }
   ],
   "source": [
    "df['vote_count'].describe()"
   ]
  },
  {
   "cell_type": "code",
   "execution_count": 123,
   "id": "7ec88ac3",
   "metadata": {},
   "outputs": [
    {
     "data": {
      "text/html": [
       "<div>\n",
       "<style scoped>\n",
       "    .dataframe tbody tr th:only-of-type {\n",
       "        vertical-align: middle;\n",
       "    }\n",
       "\n",
       "    .dataframe tbody tr th {\n",
       "        vertical-align: top;\n",
       "    }\n",
       "\n",
       "    .dataframe thead th {\n",
       "        text-align: right;\n",
       "    }\n",
       "</style>\n",
       "<table border=\"1\" class=\"dataframe\">\n",
       "  <thead>\n",
       "    <tr style=\"text-align: right;\">\n",
       "      <th></th>\n",
       "      <th>show_id</th>\n",
       "      <th>type</th>\n",
       "      <th>title</th>\n",
       "      <th>country</th>\n",
       "      <th>date_added</th>\n",
       "      <th>release_year</th>\n",
       "      <th>rating</th>\n",
       "      <th>duration</th>\n",
       "      <th>genres</th>\n",
       "      <th>language</th>\n",
       "      <th>popularity</th>\n",
       "      <th>vote_count</th>\n",
       "      <th>vote_average</th>\n",
       "    </tr>\n",
       "  </thead>\n",
       "  <tbody>\n",
       "    <tr>\n",
       "      <th>0</th>\n",
       "      <td>250060</td>\n",
       "      <td>TV Show</td>\n",
       "      <td>The First Frost</td>\n",
       "      <td>China</td>\n",
       "      <td>2025-02-18</td>\n",
       "      <td>2025</td>\n",
       "      <td>5.0</td>\n",
       "      <td>1 Seasons</td>\n",
       "      <td>Drama</td>\n",
       "      <td>zh</td>\n",
       "      <td>7.636939</td>\n",
       "      <td>1.098612</td>\n",
       "      <td>5.0</td>\n",
       "    </tr>\n",
       "    <tr>\n",
       "      <th>1</th>\n",
       "      <td>278428</td>\n",
       "      <td>TV Show</td>\n",
       "      <td>Incognito</td>\n",
       "      <td>Philippines</td>\n",
       "      <td>2025-01-20</td>\n",
       "      <td>2025</td>\n",
       "      <td>10.0</td>\n",
       "      <td>1 Seasons</td>\n",
       "      <td>Action &amp; Adventure, Drama</td>\n",
       "      <td>tl</td>\n",
       "      <td>7.278689</td>\n",
       "      <td>0.693147</td>\n",
       "      <td>10.0</td>\n",
       "    </tr>\n",
       "    <tr>\n",
       "      <th>2</th>\n",
       "      <td>279257</td>\n",
       "      <td>TV Show</td>\n",
       "      <td>Hallo Kroket!</td>\n",
       "      <td>Belgium</td>\n",
       "      <td>2025-01-06</td>\n",
       "      <td>2025</td>\n",
       "      <td>0.0</td>\n",
       "      <td>1 Seasons</td>\n",
       "      <td>Kids, Reality</td>\n",
       "      <td>nl</td>\n",
       "      <td>7.245947</td>\n",
       "      <td>0.000000</td>\n",
       "      <td>0.0</td>\n",
       "    </tr>\n",
       "    <tr>\n",
       "      <th>3</th>\n",
       "      <td>279914</td>\n",
       "      <td>TV Show</td>\n",
       "      <td>SÄ¾ub</td>\n",
       "      <td>Slovakia</td>\n",
       "      <td>2025-01-13</td>\n",
       "      <td>2025</td>\n",
       "      <td>0.0</td>\n",
       "      <td>1 Seasons</td>\n",
       "      <td>Family</td>\n",
       "      <td>sk</td>\n",
       "      <td>7.237125</td>\n",
       "      <td>0.000000</td>\n",
       "      <td>0.0</td>\n",
       "    </tr>\n",
       "    <tr>\n",
       "      <th>4</th>\n",
       "      <td>280829</td>\n",
       "      <td>TV Show</td>\n",
       "      <td>Pokoli rokonok</td>\n",
       "      <td>Hungary</td>\n",
       "      <td>2025-01-02</td>\n",
       "      <td>2025</td>\n",
       "      <td>8.5</td>\n",
       "      <td>1 Seasons</td>\n",
       "      <td>Drama</td>\n",
       "      <td>hu</td>\n",
       "      <td>7.218808</td>\n",
       "      <td>1.609438</td>\n",
       "      <td>8.5</td>\n",
       "    </tr>\n",
       "  </tbody>\n",
       "</table>\n",
       "</div>"
      ],
      "text/plain": [
       "   show_id     type            title      country date_added  release_year  \\\n",
       "0   250060  TV Show  The First Frost        China 2025-02-18          2025   \n",
       "1   278428  TV Show        Incognito  Philippines 2025-01-20          2025   \n",
       "2   279257  TV Show    Hallo Kroket!      Belgium 2025-01-06          2025   \n",
       "3   279914  TV Show            SÄ¾ub     Slovakia 2025-01-13          2025   \n",
       "4   280829  TV Show   Pokoli rokonok      Hungary 2025-01-02          2025   \n",
       "\n",
       "   rating   duration                     genres language  popularity  \\\n",
       "0     5.0  1 Seasons                      Drama       zh    7.636939   \n",
       "1    10.0  1 Seasons  Action & Adventure, Drama       tl    7.278689   \n",
       "2     0.0  1 Seasons              Kids, Reality       nl    7.245947   \n",
       "3     0.0  1 Seasons                     Family       sk    7.237125   \n",
       "4     8.5  1 Seasons                      Drama       hu    7.218808   \n",
       "\n",
       "   vote_count  vote_average  \n",
       "0    1.098612           5.0  \n",
       "1    0.693147          10.0  \n",
       "2    0.000000           0.0  \n",
       "3    0.000000           0.0  \n",
       "4    1.609438           8.5  "
      ]
     },
     "execution_count": 123,
     "metadata": {},
     "output_type": "execute_result"
    }
   ],
   "source": [
    "# Normalizing the popularity using log transformation\n",
    "df['vote_count'] = np.log1p(df['vote_count'])\n",
    "df.head()"
   ]
  },
  {
   "cell_type": "code",
   "execution_count": 125,
   "id": "fda927f9",
   "metadata": {},
   "outputs": [
    {
     "data": {
      "text/plain": [
       "<Axes: xlabel='vote_count', ylabel='Count'>"
      ]
     },
     "execution_count": 125,
     "metadata": {},
     "output_type": "execute_result"
    },
    {
     "data": {
      "image/png": "[encoded data removed]",
      "text/plain": [
       "<Figure size 640x480 with 1 Axes>"
      ]
     },
     "metadata": {},
     "output_type": "display_data"
    }
   ],
   "source": [
    "sns.histplot(df['vote_count'], kde=True)"
   ]
  },
  {
   "cell_type": "markdown",
   "id": "f376ac4c",
   "metadata": {},
   "source": [
    "### After applying log10 on vote_count"
   ]
  },
  {
   "cell_type": "markdown",
   "id": "dda08a44",
   "metadata": {},
   "source": [
    "### rating"
   ]
  },
  {
   "cell_type": "code",
   "execution_count": 126,
   "id": "e80127f0",
   "metadata": {},
   "outputs": [
    {
     "data": {
      "text/plain": [
       "count    1000.000000\n",
       "mean        2.697521\n",
       "std         3.702193\n",
       "min         0.000000\n",
       "25%         0.000000\n",
       "50%         0.000000\n",
       "75%         7.000000\n",
       "max        10.000000\n",
       "Name: rating, dtype: float64"
      ]
     },
     "execution_count": 126,
     "metadata": {},
     "output_type": "execute_result"
    }
   ],
   "source": [
    "df['rating'].describe()"
   ]
  },
  {
   "cell_type": "code",
   "execution_count": 127,
   "id": "e577b2f8",
   "metadata": {},
   "outputs": [
    {
     "data": {
      "text/plain": [
       "<Axes: xlabel='rating', ylabel='Count'>"
      ]
     },
     "execution_count": 127,
     "metadata": {},
     "output_type": "execute_result"
    },
    {
     "data": {
      "image/png": "[encoded data removed]",
      "text/plain": [
       "<Figure size 640x480 with 1 Axes>"
      ]
     },
     "metadata": {},
     "output_type": "display_data"
    }
   ],
   "source": [
    "sns.histplot(df['rating'], kde=True)"
   ]
  },
  {
   "cell_type": "markdown",
   "id": "3335dc48",
   "metadata": {},
   "source": [
    "### There is no need to transform rating"
   ]
  },
  {
   "cell_type": "markdown",
   "id": "efe2893b",
   "metadata": {},
   "source": [
    "### vote_average"
   ]
  },
  {
   "cell_type": "code",
   "execution_count": 129,
   "id": "868809a6",
   "metadata": {},
   "outputs": [
    {
     "data": {
      "text/plain": [
       "count    1000.000000\n",
       "mean        2.697521\n",
       "std         3.702193\n",
       "min         0.000000\n",
       "25%         0.000000\n",
       "50%         0.000000\n",
       "75%         7.000000\n",
       "max        10.000000\n",
       "Name: vote_average, dtype: float64"
      ]
     },
     "execution_count": 129,
     "metadata": {},
     "output_type": "execute_result"
    }
   ],
   "source": [
    "df['vote_average'].describe()"
   ]
  },
  {
   "cell_type": "markdown",
   "id": "20343a06",
   "metadata": {},
   "source": [
    "### There is no need to transform vote_average"
   ]
  },
  {
   "cell_type": "code",
   "execution_count": 131,
   "id": "4e6b9b0d",
   "metadata": {},
   "outputs": [],
   "source": [
    "df.to_excel('Netflix_shows_2025_ready_cleaned.xlsx', index=False)"
   ]
  }
 ],
 "metadata": {
  "kernelspec": {
   "display_name": "netflix_work",
   "language": "python",
   "name": "python3"
  },
  "language_info": {
   "codemirror_mode": {
    "name": "ipython",
    "version": 3
   },
   "file_extension": ".py",
   "mimetype": "text/x-python",
   "name": "python",
   "nbconvert_exporter": "python",
   "pygments_lexer": "ipython3",
   "version": "3.10.0"
  }
 },
 "nbformat": 4,
 "nbformat_minor": 5
}
